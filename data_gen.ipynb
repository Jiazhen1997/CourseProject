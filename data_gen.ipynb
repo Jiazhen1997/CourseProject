{
 "cells": [
  {
   "cell_type": "code",
   "execution_count": 58,
   "metadata": {},
   "outputs": [],
   "source": [
    "import os"
   ]
  },
  {
   "cell_type": "code",
   "execution_count": 53,
   "metadata": {},
   "outputs": [],
   "source": [
    "file_dir = \"D:\\DLProj\\data_files\\idf\"\n",
    "file_save =  \"D:\\DLProj\\whole_file.txt\"\n",
    "fs = open(file_save, \"w\", encoding=\"utf-8\")\n",
    "\n",
    "for root,dirs,files in os.walk(file_dir): \n",
    "    pass\n",
    "for file in files:\n",
    "    path = file_dir + '\\\\' + file\n",
    "    f = open(path, errors='ignore')\n",
    "    line = f.readline()\n",
    "    while line: \n",
    "        if line.find(\"_author_\") == -1:    #delete the lines with author name\n",
    "            line = line.strip()\n",
    "            line = line + \"<\\exit>\\n\"  #add a stop sign for each line\n",
    "            if line != '<\\exit>\\n':  #delete the blank lines\n",
    "                fs.write(line)\n",
    "        line = f.readline()\n",
    "    f.close()\n",
    "fs.close()"
   ]
  },
  {
   "cell_type": "code",
   "execution_count": 65,
   "metadata": {},
   "outputs": [],
   "source": [
    "import math\n",
    "whole_data = open(file_save, errors='ignore').readlines()\n",
    "count=len(whole_data)\n",
    "train_file =  \"D:/DLProj/train_file.txt\"\n",
    "test_file =  \"D:/DLProj/test_file.txt\"\n",
    "vaild_file =  \"D:/DLProj/vaild_file.txt\"\n",
    "\n",
    "#divide them into train test and valid with amount of 8: 1: 1\n",
    "ft = open(train_file, \"w\", encoding=\"utf-8\")\n",
    "ft.writelines(whole_data[0: math.floor(count * 0.8)])\n",
    "\n",
    "fte = open(test_file, \"w\", encoding=\"utf-8\")\n",
    "fte.writelines(whole_data[math.floor(count * 0.8): math.floor(count * 0.9)])\n",
    "\n",
    "fv = open(vaild_file, \"w\", encoding=\"utf-8\")\n",
    "fv.writelines(whole_data[math.floor(count * 0.9):])\n",
    "\n",
    "ft.close()\n",
    "fte.close()\n",
    "fv.close()"
   ]
  },
  {
   "cell_type": "code",
   "execution_count": null,
   "metadata": {},
   "outputs": [],
   "source": []
  }
 ],
 "metadata": {
  "kernelspec": {
   "display_name": "Python 3",
   "language": "python",
   "name": "python3"
  },
  "language_info": {
   "codemirror_mode": {
    "name": "ipython",
    "version": 3
   },
   "file_extension": ".py",
   "mimetype": "text/x-python",
   "name": "python",
   "nbconvert_exporter": "python",
   "pygments_lexer": "ipython3",
   "version": "3.7.3"
  }
 },
 "nbformat": 4,
 "nbformat_minor": 2
}
